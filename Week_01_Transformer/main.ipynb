{
 "cells": [
  {
   "cell_type": "code",
   "execution_count": 37,
   "metadata": {},
   "outputs": [],
   "source": [
    "import torch\n",
    "import torch.nn as nn\n",
    "import torch.optim as optim"
   ]
  },
  {
   "cell_type": "code",
   "execution_count": 38,
   "metadata": {},
   "outputs": [
    {
     "name": "stdout",
     "output_type": "stream",
     "text": [
      "/Users/jaehyunoh/Desktop/학교/학회/YBIGTA/2024-2DS/Week_01_Transformer\n"
     ]
    }
   ],
   "source": [
    "#로컬 모듈 import\n",
    "import sys\n",
    "import os\n",
    "print(os.getcwd())\n",
    "# 모듈 경로를 sys.path에 추가\n",
    "module_path = os.path.abspath(os.path.join('..', 'my_transformer'))\n",
    "if module_path not in sys.path:\n",
    "    sys.path.append(module_path)\n",
    "from my_transformer.my_transformer import Transformer"
   ]
  },
  {
   "cell_type": "code",
   "execution_count": 39,
   "metadata": {},
   "outputs": [
    {
     "ename": "TypeError",
     "evalue": "__init__() takes 3 positional arguments but 4 were given",
     "output_type": "error",
     "traceback": [
      "\u001b[0;31m---------------------------------------------------------------------------\u001b[0m",
      "\u001b[0;31mTypeError\u001b[0m                                 Traceback (most recent call last)",
      "Cell \u001b[0;32mIn[39], line 40\u001b[0m\n\u001b[1;32m     37\u001b[0m dataloader \u001b[39m=\u001b[39m DataLoader(dataset, batch_size\u001b[39m=\u001b[39mbatch_size, shuffle\u001b[39m=\u001b[39m\u001b[39mTrue\u001b[39;00m)\n\u001b[1;32m     39\u001b[0m \u001b[39m# 모델 초기화\u001b[39;00m\n\u001b[0;32m---> 40\u001b[0m model \u001b[39m=\u001b[39m Transformer(src_vocab_size, tgt_vocab_size, d_model, n_heads, d_ff, num_encoder_layers, num_decoder_layers, dropout)\n\u001b[1;32m     42\u001b[0m \u001b[39m# 손실 함수 및 최적화 도구 정의\u001b[39;00m\n\u001b[1;32m     43\u001b[0m criterion \u001b[39m=\u001b[39m nn\u001b[39m.\u001b[39mCrossEntropyLoss()\n",
      "File \u001b[0;32m~/Desktop/학교/학회/YBIGTA/2024-2DS/Week_01_Transformer/my_transformer/my_transformer.py:18\u001b[0m, in \u001b[0;36mTransformer.__init__\u001b[0;34m(self, src_vocab_size, tgt_vocab_size, d_model, n_heads, d_ff, num_encoder_layers, num_decoder_layers, dropout)\u001b[0m\n\u001b[1;32m     12\u001b[0m \u001b[39mself\u001b[39m\u001b[39m.\u001b[39mposition_embedding \u001b[39m=\u001b[39m PositionEmbedding(d_model)\n\u001b[1;32m     13\u001b[0m \u001b[39mself\u001b[39m\u001b[39m.\u001b[39mencoder_layers \u001b[39m=\u001b[39m nn\u001b[39m.\u001b[39mModuleList([\n\u001b[1;32m     14\u001b[0m     TransformerEncoderLayer(d_model, n_heads, d_ff, dropout) \n\u001b[1;32m     15\u001b[0m     \u001b[39mfor\u001b[39;00m _ \u001b[39min\u001b[39;00m \u001b[39mrange\u001b[39m(num_encoder_layers)\n\u001b[1;32m     16\u001b[0m ])\n\u001b[0;32m---> 18\u001b[0m \u001b[39mself\u001b[39m\u001b[39m.\u001b[39mdecoder_layers \u001b[39m=\u001b[39m nn\u001b[39m.\u001b[39mModuleList([\n\u001b[1;32m     19\u001b[0m     TransformerDecoderLayer(d_model, n_heads, d_ff, dropout) \n\u001b[1;32m     20\u001b[0m     \u001b[39mfor\u001b[39;00m _ \u001b[39min\u001b[39;00m \u001b[39mrange\u001b[39m(num_decoder_layers)\n\u001b[1;32m     21\u001b[0m ])\n\u001b[1;32m     23\u001b[0m \u001b[39mself\u001b[39m\u001b[39m.\u001b[39mfc_out \u001b[39m=\u001b[39m nn\u001b[39m.\u001b[39mLinear(d_model, tgt_vocab_size)\n\u001b[1;32m     24\u001b[0m \u001b[39mself\u001b[39m\u001b[39m.\u001b[39mdropout \u001b[39m=\u001b[39m nn\u001b[39m.\u001b[39mDropout(dropout)\n",
      "File \u001b[0;32m~/Desktop/학교/학회/YBIGTA/2024-2DS/Week_01_Transformer/my_transformer/my_transformer.py:19\u001b[0m, in \u001b[0;36m<listcomp>\u001b[0;34m(.0)\u001b[0m\n\u001b[1;32m     12\u001b[0m \u001b[39mself\u001b[39m\u001b[39m.\u001b[39mposition_embedding \u001b[39m=\u001b[39m PositionEmbedding(d_model)\n\u001b[1;32m     13\u001b[0m \u001b[39mself\u001b[39m\u001b[39m.\u001b[39mencoder_layers \u001b[39m=\u001b[39m nn\u001b[39m.\u001b[39mModuleList([\n\u001b[1;32m     14\u001b[0m     TransformerEncoderLayer(d_model, n_heads, d_ff, dropout) \n\u001b[1;32m     15\u001b[0m     \u001b[39mfor\u001b[39;00m _ \u001b[39min\u001b[39;00m \u001b[39mrange\u001b[39m(num_encoder_layers)\n\u001b[1;32m     16\u001b[0m ])\n\u001b[1;32m     18\u001b[0m \u001b[39mself\u001b[39m\u001b[39m.\u001b[39mdecoder_layers \u001b[39m=\u001b[39m nn\u001b[39m.\u001b[39mModuleList([\n\u001b[0;32m---> 19\u001b[0m     TransformerDecoderLayer(d_model, n_heads, d_ff, dropout) \n\u001b[1;32m     20\u001b[0m     \u001b[39mfor\u001b[39;00m _ \u001b[39min\u001b[39;00m \u001b[39mrange\u001b[39m(num_decoder_layers)\n\u001b[1;32m     21\u001b[0m ])\n\u001b[1;32m     23\u001b[0m \u001b[39mself\u001b[39m\u001b[39m.\u001b[39mfc_out \u001b[39m=\u001b[39m nn\u001b[39m.\u001b[39mLinear(d_model, tgt_vocab_size)\n\u001b[1;32m     24\u001b[0m \u001b[39mself\u001b[39m\u001b[39m.\u001b[39mdropout \u001b[39m=\u001b[39m nn\u001b[39m.\u001b[39mDropout(dropout)\n",
      "File \u001b[0;32m~/Desktop/학교/학회/YBIGTA/2024-2DS/Week_01_Transformer/my_transformer/decoder.py:15\u001b[0m, in \u001b[0;36mTransformerDecoderLayer.__init__\u001b[0;34m(self, d_model, n_heads, d_ff, dropout)\u001b[0m\n\u001b[1;32m     13\u001b[0m \u001b[39mself\u001b[39m\u001b[39m.\u001b[39mself_attn \u001b[39m=\u001b[39m MultiHeadAttention(d_model, n_heads)  \u001b[39m#셀프어텐션\u001b[39;00m\n\u001b[1;32m     14\u001b[0m \u001b[39mself\u001b[39m\u001b[39m.\u001b[39menc_dec_attn \u001b[39m=\u001b[39m MultiHeadAttention(d_model, n_heads)  \u001b[39m#인코더-디코더 어텐션\u001b[39;00m\n\u001b[0;32m---> 15\u001b[0m \u001b[39mself\u001b[39m\u001b[39m.\u001b[39mfeed_forward \u001b[39m=\u001b[39m FeedForwardLayer(d_model, d_ff, dropout)  \u001b[39m#피드포워드\u001b[39;00m\n\u001b[1;32m     16\u001b[0m \u001b[39mself\u001b[39m\u001b[39m.\u001b[39mdropout \u001b[39m=\u001b[39m DropoutLayer(dropout)  \u001b[39m#드롭아웃 레이어\u001b[39;00m\n\u001b[1;32m     17\u001b[0m \u001b[39mself\u001b[39m\u001b[39m.\u001b[39mnorm1 \u001b[39m=\u001b[39m LayerNormalization(d_model)  \u001b[39m#레이어 정규화, 첫 셀프어텐션\u001b[39;00m\n",
      "\u001b[0;31mTypeError\u001b[0m: __init__() takes 3 positional arguments but 4 were given"
     ]
    }
   ],
   "source": [
    "from torch.utils.data import Dataset, DataLoader\n",
    "class PatternDataset(Dataset):\n",
    "    def __init__(self, num_samples=1000, sequence_length=4, max_num=10):\n",
    "        self.data = []\n",
    "        self.targets = []\n",
    "        for _ in range(num_samples):\n",
    "            start = torch.randint(0, max_num, (1,)).item()  # 시작 숫자\n",
    "            diff = torch.randint(1, 5, (1,)).item()  # 등차\n",
    "            sequence = [start + i * diff for i in range(sequence_length)]\n",
    "            next_value = sequence[-1] + diff  # 다음에 올 숫자\n",
    "            \n",
    "            # 입력 시퀀스는 정수로 이루어진 시퀀스, 타겟은 다음에 올 숫자\n",
    "            self.data.append(torch.tensor(sequence))\n",
    "            self.targets.append(next_value)\n",
    "    \n",
    "    def __len__(self):\n",
    "        return len(self.data)\n",
    "\n",
    "    def __getitem__(self, idx):\n",
    "        return self.data[idx], self.targets[idx]\n",
    "\n",
    "# 하이퍼파라미터 설정\n",
    "src_vocab_size = 100\n",
    "tgt_vocab_size = 200\n",
    "d_model = 32\n",
    "n_heads = 4\n",
    "d_ff = 64\n",
    "num_encoder_layers = 6\n",
    "num_decoder_layers = 6\n",
    "dropout = 0.1\n",
    "batch_size = 32\n",
    "num_epochs = 50\n",
    "learning_rate = 0.0001\n",
    "\n",
    "# 데이터셋 및 데이터로더 생성\n",
    "dataset = PatternDataset(num_samples=1000)\n",
    "dataloader = DataLoader(dataset, batch_size=batch_size, shuffle=True)\n",
    "\n",
    "# 모델 초기화\n",
    "model = Transformer(src_vocab_size, tgt_vocab_size, d_model, n_heads, d_ff, num_encoder_layers, num_decoder_layers, dropout)\n",
    "\n",
    "# 손실 함수 및 최적화 도구 정의\n",
    "criterion = nn.CrossEntropyLoss()\n",
    "optimizer = optim.Adam(model.parameters(), lr=learning_rate)\n",
    "\n",
    "# 학습 루프\n",
    "for epoch in range(num_epochs):\n",
    "    model.train()\n",
    "    total_loss = 0\n",
    "\n",
    "    for src, tgt in dataloader:\n",
    "        # 입력 시퀀스 준비\n",
    "        tgt_input = torch.zeros_like(tgt).unsqueeze(1)  # 예측 시작을 위한 빈 타겟 시퀀스\n",
    "        tgt = tgt.unsqueeze(1)  # 타겟을 2D 텐서로 변환\n",
    "        \n",
    "        optimizer.zero_grad()\n",
    "\n",
    "        # 모델에 입력 및 타겟 시퀀스 전달\n",
    "        output = model(src, tgt_input)\n",
    "\n",
    "        # 출력 크기 조정 및 손실 계산\n",
    "        output = output.view(-1, tgt_vocab_size)  # (batch_size, vocab_size)\n",
    "        tgt = tgt.view(-1)  # (batch_size)\n",
    "        \n",
    "        loss = criterion(output, tgt)\n",
    "        loss.backward()\n",
    "        optimizer.step()\n",
    "\n",
    "        total_loss += loss.item()\n",
    "    \n",
    "    print(f\"Epoch {epoch+1}/{num_epochs}, Loss: {total_loss/len(dataloader):.4f}\")"
   ]
  },
  {
   "cell_type": "code",
   "execution_count": null,
   "metadata": {},
   "outputs": [],
   "source": [
    "# 테스트 데이터셋 생성 (학습 데이터와 동일한 방식으로 생성)\n",
    "test_dataset = PatternDataset(num_samples=1000)  # 테스트용 샘플 수\n",
    "test_dataloader = DataLoader(test_dataset, batch_size=batch_size, shuffle=False)\n",
    "\n",
    "def test_model(model, dataloader):\n",
    "    model.eval()  # 평가 모드로 설정\n",
    "    total_correct = 0\n",
    "    total_samples = 0\n",
    "\n",
    "    with torch.no_grad():  # 그래디언트 계산 중지 (평가 시에는 필요하지 않음)\n",
    "        for src, tgt in dataloader:\n",
    "            # 입력 시퀀스 준비\n",
    "            tgt_input = torch.zeros_like(tgt).unsqueeze(1)  # 예측 시작을 위한 빈 타겟 시퀀스\n",
    "            tgt = tgt.unsqueeze(1)  # 타겟을 2D 텐서로 변환\n",
    "            \n",
    "            # 모델에 입력 시퀀스를 전달하고 예측 값 생성\n",
    "            output = model(src, tgt_input)\n",
    "            predicted = output.argmax(dim=-1)  # 예측 결과는 argmax를 통해 얻음\n",
    "            \n",
    "            # 실제 타겟과 예측값 비교\n",
    "            correct = (predicted.view(-1) == tgt.view(-1)).sum().item()\n",
    "            total_correct += correct\n",
    "            total_samples += tgt.size(0)\n",
    "\n",
    "    # 정확도 계산\n",
    "    accuracy = total_correct / total_samples * 100\n",
    "    print(f\"Test Accuracy: {accuracy:.2f}%\")\n",
    "\n",
    "# 학습된 모델 테스트\n",
    "test_model(model, test_dataloader)\n"
   ]
  }
 ],
 "metadata": {
  "kernelspec": {
   "display_name": "Python 3.9.16 ('venv')",
   "language": "python",
   "name": "python3"
  },
  "language_info": {
   "codemirror_mode": {
    "name": "ipython",
    "version": 3
   },
   "file_extension": ".py",
   "mimetype": "text/x-python",
   "name": "python",
   "nbconvert_exporter": "python",
   "pygments_lexer": "ipython3",
   "version": "3.9.16"
  },
  "vscode": {
   "interpreter": {
    "hash": "b3f4887963920f49dca6f6eaa63b1fe5c858b568bcae60ca04551807b3410395"
   }
  }
 },
 "nbformat": 4,
 "nbformat_minor": 2
}
